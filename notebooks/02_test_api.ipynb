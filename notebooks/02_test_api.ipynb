{
 "cells": [
  {
   "cell_type": "code",
   "execution_count": 1,
   "metadata": {},
   "outputs": [
    {
     "name": "stdout",
     "output_type": "stream",
     "text": [
      "Waiting for job to finish..\n",
      "[{'mutation': 'G1A', 'protbert_core': 0.011648587882518768, 'proteinsolver_core': 0.7335909865796566, 'el2core': 0.3672627929817027, 'protbert_interface': 0.019379954785108566, 'proteinsolver_interface': 0.6837433353066444, 'el2interface': -0.969817502829359}, {'mutation': 'G1C', 'protbert_core': 0.042313314974308014, 'proteinsolver_core': 0.7710323920473456, 'el2core': 1.4015814564056857, 'protbert_interface': 0.04970591701567173, 'proteinsolver_interface': 0.7245333794271573, 'el2interface': 0.3845074588811436}]\n"
     ]
    }
   ],
   "source": [
    "import json\n",
    "import time\n",
    "\n",
    "import requests\n",
    "\n",
    "ELASPIC2_JOBS_API = \"https://elaspic.uc.r.appspot.com/jobs/\"\n",
    "\n",
    "mutation_info = {\n",
    "    \"protein_structure_url\": \"https://files.rcsb.org/download/1MFG.pdb\",\n",
    "    \"protein_sequence\": \"GSMEIRVRVEKDPELGFSISGGVGGRGNPFRPDDDGIFVTRVQPEGPASKLLQPGDKIIQANGYSFINIEHGQAVSLLKTFQNTVELIIVREVSS\",\n",
    "    \"mutations\": \"G1A,G1C\",\n",
    "    \"ligand_sequence\": \"EYLGLDVPV\",\n",
    "}\n",
    "\n",
    "job_request = requests.post(ELASPIC2_JOBS_API, json=mutation_info).json()\n",
    "print(\"Waiting for job to finish\", end=\"\")\n",
    "while True:\n",
    "    time.sleep(10)\n",
    "    job_status = requests.get(job_request[\"web_url\"]).json()\n",
    "    if job_status[\"status\"] in [\"error\", \"success\"]:\n",
    "        break\n",
    "    print(\".\", end=\"\")\n",
    "print()\n",
    "job_result = requests.get(job_status[\"web_url\"]).json()\n",
    "requests.delete(job_request[\"web_url\"]).raise_for_status()\n",
    "print(job_result)"
   ]
  },
  {
   "cell_type": "code",
   "execution_count": null,
   "metadata": {},
   "outputs": [],
   "source": []
  }
 ],
 "metadata": {
  "kernelspec": {
   "display_name": "Python 3",
   "language": "python",
   "name": "python3"
  },
  "language_info": {
   "codemirror_mode": {
    "name": "ipython",
    "version": 3
   },
   "file_extension": ".py",
   "mimetype": "text/x-python",
   "name": "python",
   "nbconvert_exporter": "python",
   "pygments_lexer": "ipython3",
   "version": "3.8.6"
  }
 },
 "nbformat": 4,
 "nbformat_minor": 4
}
